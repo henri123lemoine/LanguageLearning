{
 "cells": [
  {
   "attachments": {},
   "cell_type": "markdown",
   "metadata": {},
   "source": [
    "# Language Learning"
   ]
  },
  {
   "attachments": {},
   "cell_type": "markdown",
   "metadata": {},
   "source": [
    "## Imports"
   ]
  },
  {
   "cell_type": "code",
   "execution_count": 114,
   "metadata": {},
   "outputs": [],
   "source": [
    "from docx import Document\n",
    "import translators as ts\n",
    "from typing import List, Tuple\n",
    "\n",
    "import pyttsx3\n"
   ]
  },
  {
   "attachments": {},
   "cell_type": "markdown",
   "metadata": {},
   "source": [
    "## Constants"
   ]
  },
  {
   "cell_type": "code",
   "execution_count": 99,
   "metadata": {},
   "outputs": [],
   "source": [
    "file = \"Files/hpmor.docx\"\n",
    "saving_directory = \"Files\""
   ]
  },
  {
   "attachments": {},
   "cell_type": "markdown",
   "metadata": {},
   "source": [
    "## Helpers"
   ]
  },
  {
   "cell_type": "code",
   "execution_count": 42,
   "metadata": {},
   "outputs": [],
   "source": [
    "# FROM https://stackoverflow.com/a/31505798/16185542\n",
    "\n",
    "# -*- coding: utf-8 -*-\n",
    "import re\n",
    "alphabets= \"([A-Za-z])\"\n",
    "prefixes = \"(Mr|St|Mrs|Ms|Dr)[.]\"\n",
    "suffixes = \"(Inc|Ltd|Jr|Sr|Co)\"\n",
    "starters = \"(Mr|Mrs|Ms|Dr|Prof|Capt|Cpt|Lt|He\\s|She\\s|It\\s|They\\s|Their\\s|Our\\s|We\\s|But\\s|However\\s|That\\s|This\\s|Wherever)\"\n",
    "acronyms = \"([A-Z][.][A-Z][.](?:[A-Z][.])?)\"\n",
    "websites = \"[.](com|net|org|io|gov|edu|me)\"\n",
    "digits = \"([0-9])\"\n",
    "\n",
    "def split_into_sentences(text):\n",
    "    text = \" \" + text + \"  \"\n",
    "    text = text.replace(\"\\n\",\" \")\n",
    "    text = re.sub(prefixes,\"\\\\1<prd>\",text)\n",
    "    text = re.sub(websites,\"<prd>\\\\1\",text)\n",
    "    text = re.sub(digits + \"[.]\" + digits,\"\\\\1<prd>\\\\2\",text)\n",
    "    if \"...\" in text: text = text.replace(\"...\",\"<prd><prd><prd>\")\n",
    "    if \"Ph.D\" in text: text = text.replace(\"Ph.D.\",\"Ph<prd>D<prd>\")\n",
    "    text = re.sub(\"\\s\" + alphabets + \"[.] \",\" \\\\1<prd> \",text)\n",
    "    text = re.sub(acronyms+\" \"+starters,\"\\\\1<stop> \\\\2\",text)\n",
    "    text = re.sub(alphabets + \"[.]\" + alphabets + \"[.]\" + alphabets + \"[.]\",\"\\\\1<prd>\\\\2<prd>\\\\3<prd>\",text)\n",
    "    text = re.sub(alphabets + \"[.]\" + alphabets + \"[.]\",\"\\\\1<prd>\\\\2<prd>\",text)\n",
    "    text = re.sub(\" \"+suffixes+\"[.] \"+starters,\" \\\\1<stop> \\\\2\",text)\n",
    "    text = re.sub(\" \"+suffixes+\"[.]\",\" \\\\1<prd>\",text)\n",
    "    text = re.sub(\" \" + alphabets + \"[.]\",\" \\\\1<prd>\",text)\n",
    "    if \"”\" in text: text = text.replace(\".”\",\"”.\")\n",
    "    if \"\\\"\" in text: text = text.replace(\".\\\"\",\"\\\".\")\n",
    "    if \"!\" in text: text = text.replace(\"!\\\"\",\"\\\"!\")\n",
    "    if \"?\" in text: text = text.replace(\"?\\\"\",\"\\\"?\")\n",
    "    text = text.replace(\".\",\".<stop>\")\n",
    "    text = text.replace(\"?\",\"?<stop>\")\n",
    "    text = text.replace(\"!\",\"!<stop>\")\n",
    "    text = text.replace(\"<prd>\",\".\")\n",
    "    sentences = text.split(\"<stop>\")\n",
    "    sentences = sentences[:-1]\n",
    "    sentences = [s.strip() for s in sentences]\n",
    "    \n",
    "    if sentences == []:\n",
    "        sentences = [text.strip()]\n",
    "    return sentences"
   ]
  },
  {
   "attachments": {},
   "cell_type": "markdown",
   "metadata": {},
   "source": [
    "## Get Text"
   ]
  },
  {
   "cell_type": "code",
   "execution_count": 90,
   "metadata": {},
   "outputs": [],
   "source": [
    "# Open the Word document\n",
    "document = Document(file)\n",
    "\n",
    "# Extract the text\n",
    "input_text = []\n",
    "for para in document.paragraphs[:20]:\n",
    "    sentences = split_into_sentences(para.text)\n",
    "    input_text.append(sentences)"
   ]
  },
  {
   "cell_type": "code",
   "execution_count": 91,
   "metadata": {},
   "outputs": [],
   "source": [
    "# Test the rest of this notebook only using the first 100 paragraphs\n",
    "input_text = input_text[:100]"
   ]
  },
  {
   "attachments": {},
   "cell_type": "markdown",
   "metadata": {},
   "source": [
    "## Get translation"
   ]
  },
  {
   "cell_type": "code",
   "execution_count": 96,
   "metadata": {},
   "outputs": [
    {
     "name": "stdout",
     "output_type": "stream",
     "text": [
      "[('Harry Potter and the Methods of Rationality - Deutsche Fan-Übersetzung', 'Harry Potter and the Methods of Rationality - Deutsche Fan-Übersetzung'), ('Eliezer Yudkowsky', 'Eliezer Yudkowsky'), ('Vorwort von Eliezer Yudkowsky', 'Foreword by Eliezer Yudkowsky'), ('Der Text enthält viele Hinweise: offensichtliche Hinweise, nicht so offensichtliche Hinweise, wirklich obskure Hinweise, von denen ich schockiert war, dass sie von einigen Lesern erfolgreich entschlüsselt wurden, und massive Hinweise, die einfach liegen gelassen wurden.', 'The text contains many clues: obvious clues, not-so-obvious clues, really obscure clues that I was shocked were successfully deciphered by some readers, and massive clues that were simply left behind.'), ('Dies ist eine rationalistische Geschichte; ihre Rätsel sind lösbar und dazu gedacht, gelöst zu werden.', 'This is a rationalist story; their puzzles are solvable and meant to be solved.'), ('Das Tempo der Geschichte ist das einer seriellen Fiktion, d. h. das einer Fernsehserie, die über eine bestimmte Anzahl von Staffeln läuft, deren Episoden einzeln gezeichnet sind, aber mit einem Gesamtbogen, der auf ein endgültiges Ende hinführt.', 'The pace of the story is that of a serial fiction, that is, that of a television series that runs over a certain number of seasons, the episodes of which are drawn individually, but with an overall arc that leads to a final end.'), ('Alle erwähnte Wissenschaft ist echte Wissenschaft.', 'All the science mentioned is real science.'), ('Bitte bedenken Sie aber, dass die Ansichten der Charaktere außerhalb des Bereichs der Wissenschaft nicht unbedingt die des Autors sind.', 'Please keep in mind, however, that the views of the characters outside the realm of science are not necessarily those of the author.'), ('Nicht alles, was der Protagonist tut, ist eine Lektion in Weisheit, und Ratschläge, die von dunkleren Charakteren angeboten werden, können unzuverlässig oder gefährlich zweischneidig sein.', 'Not everything the protagonist does is a lesson in wisdom, and advice offered by darker characters can be unreliable or dangerously double-edged.'), ('Einleitung', 'Introduction'), ('Irgendwas, irgendwo, irgendwann muss ganz anders abgelaufen sein…', 'Something, somewhere, at some point must have been completely different...'), ('Petunia Evans heiratete Michael Verres, einen Professor für Biochemie in Oxford.', 'Petunia Evans married Michael Verres, a professor of biochemistry at Oxford.'), ('Harry James Potter-Evans-Verres wuchs in einem Haus auf, das bis zum Rand mit Büchern gefüllt war.', 'Harry James Potter-Evans-Verres grew up in a house filled to the brim with books.'), ('Er biss einmal eine Mathe-Lehrerin, die nicht wusste, was ein Logarithmus ist.', \"He once bit a math teacher who didn't know what a logarithm was.\"), ('Er hat Godel, Escher, Bach und Judgment Under Uncertainty: Heuristics and Biases und Band eins der The Feynman Lectures on Physics gelesen.', 'He has read Godel, Escher, Bach and Judgment Under Uncertainty: Heuristics and Biases and volume one of The Feynman Lectures on Physics.'), ('Und entgegen dem, was jeder der ihn kennt zu fürchten scheint, will er nicht der nächste Dunkle Lord werden.', \"And contrary to what everyone who knows him seems to fear, he doesn't want to become the next Dark Lord.\"), ('Er wurde besser erzogen.', 'He was brought up better.'), ('Er will die Gesetze der Magie entdecken und ein Gott werden.', 'He wants to discover the laws of magic and become a god.'), ('Hermine Granger ist in allen Fächern besser als er, außer beim Besenreiten.', 'Hermione Granger is better than him in all subjects except broom riding.'), ('Draco Malfoy ist genauso, wie man es von einem Elfjährigen erwarten würde, wenn Darth Vader sein liebender Vater wäre.', 'Draco Malfoy is exactly what you would expect from an eleven-year-old if Darth Vader were his loving father.'), ('Professor Quirrell lebt seinen Lebenstraum, Verteidigung gegen die dunklen Künste zu unterrichten, oder, wie er seinen Unterricht lieber bezeichnet, Kampfmagie.', 'Professor Quirrell is living his lifelong dream of teaching Defense Against the Dark Arts, or as he prefers to call his teaching, combat magic.'), ('Seine Schüler fragen sich alle, was diesmal mit dem Verteidigungsprofessor schiefgehen wird.', 'His students are all wondering what will go wrong with the defense professor this time.'), ('Dumbledore ist entweder verrückt oder spielt ein sehr viel tiefgründigeres Spiel, das es nötig machte, ein Hühnchen in Brand zu stecken.', 'Dumbledore is either crazy or playing a much deeper game that made it necessary to set a chicken on fire.'), ('Minerva McGonagall muss sich erst einmal zurückziehen und eine Weile schreien.', 'Minerva McGonagall has to retreat and scream for a while.'), ('Anmerkungen', 'Notes'), ('Die Ansichten der Charaktere in dieser Geschichte sind nicht notwendigerweise diejenigen des Autors.', 'The views of the characters in this story are not necessarily those of the author.'), ('Was der ‚warme‘ Harry denkt, ist meist als gutes Beispiel zu verstehen, dem man folgen darf, besonders wenn Harry darüber nachdenkt, was für wissenschaftliche Studien er zitieren kann, um ein bestimmtes Prinzip zu untermauern.', \"What the 'warm' Harry thinks is usually a good example to follow, especially when Harry thinks about what kind of scientific studies he can cite to support a certain principle.\"), ('Doch nicht alles, was Harry tut oder denkt, ist eine gute Idee.', 'But not everything Harry does or thinks is a good idea.'), ('Das würde als Geschichte nicht funktionieren.', \"That wouldn't work as a story.\"), ('Die weniger warmen Charaktere mögen ab und an wertvolle Lektionen zu bieten haben, doch diese können auch gefährlich zweischneidig sein.', 'The less warm characters may have valuable lessons to offer from time to time, but these can also be dangerously double-edged.'), ('Wenn dir diese Geschichte nicht nur gefallen hat, sondern du auch etwas daraus gelernt hast, dann solltest du darüber nachdenken, sie zu teilen oder zu tweeten.', 'If you not only liked this story, but learned something from it, then you should think about sharing or tweeting it.'), ('Ein Werk wie dieses ist nur soviel wert, wie es Menschen gibt, die es lesen.', 'A work like this is only worth as much as there are people who read it.'), ('1.', '1.'), ('1.', '1.')]\n"
     ]
    }
   ],
   "source": [
    "def translate(input_text: List[List[str]], from_lang: str, to_lang: str) -> List[Tuple[str, str]]:\n",
    "    \"\"\"Translate a list of paragraphs, each of which is a list of sentences, from the from_lang language to the to_lang language.\n",
    "\n",
    "    Args:\n",
    "        input_text (List[List[str]]): A list of paragraphs, each of which is a list of sentences, all in the from_lang language.\n",
    "        from_lang (str): The language of the input_text. \n",
    "        to_lang (str): The language to translate the input_text to.\n",
    "\n",
    "    Returns:\n",
    "        List[Tuple[str, str]]: A list of tuples of the form (input_sentence, output_sentence), where input_sentence is a sentence in the from_lang language and output_sentence is the translation of input_sentence to the to_lang language.\n",
    "    \"\"\"\n",
    "    output_sentence_tuples = []\n",
    "    for paragraph in input_text:\n",
    "        for sentence in paragraph:\n",
    "            output_sentence = ts.translate_text(sentence, to_language=to_lang, from_language=from_lang, engine=\"deepl\")\n",
    "            output_sentence_tuples.append((sentence, output_sentence))\n",
    "    return output_sentence_tuples\n",
    "\n",
    "output_text = translate(input_text, \"de\", \"en\")"
   ]
  },
  {
   "attachments": {},
   "cell_type": "markdown",
   "metadata": {},
   "source": [
    "## Generate audio"
   ]
  },
  {
   "cell_type": "code",
   "execution_count": 128,
   "metadata": {},
   "outputs": [],
   "source": [
    "class Audio:\n",
    "    def __init__(self, voice: int=0, speed: int=200) -> None:\n",
    "        self.voice = voice\n",
    "        self.speed = speed\n",
    "\n",
    "        self.engine = self.set_engine()\n",
    "\n",
    "    def set_engine(self):\n",
    "        engine = pyttsx3.init()\n",
    "        voices = engine.getProperty('voices')\n",
    "        engine.setProperty('voice', voices[self.voice].id)\n",
    "        engine.setProperty('rate', self.speed)\n",
    "        return engine\n",
    "\n",
    "    def save_audio(self, string: str=\"\", save_path: str=\".\"):\n",
    "        self.engine.save_to_file(string, save_path)\n",
    "        self.engine.runAndWait()\n",
    "        self.engine.stop()"
   ]
  },
  {
   "cell_type": "code",
   "execution_count": 133,
   "metadata": {},
   "outputs": [],
   "source": [
    "german_engine = Audio(voice=2, speed=150)\n",
    "english_engine = Audio(voice=0, speed=200)\n",
    "for (i, (de_sentence, en_sentence)) in enumerate(output_text):\n",
    "    german_engine.save_audio(de_sentence, f\"{saving_directory}/de_{i}.mp3\")\n",
    "    english_engine.save_audio(en_sentence, f\"{saving_directory}/en_{i}.mp3\")"
   ]
  },
  {
   "cell_type": "code",
   "execution_count": 135,
   "metadata": {},
   "outputs": [],
   "source": [
    "import glob\n",
    "from pydub import AudioSegment"
   ]
  },
  {
   "cell_type": "code",
   "execution_count": 142,
   "metadata": {},
   "outputs": [],
   "source": [
    "from pydub import AudioSegment\n",
    "from pydub.utils import which\n",
    "\n",
    "AudioSegment.converter = which(\"ffmpeg\")"
   ]
  },
  {
   "cell_type": "code",
   "execution_count": 146,
   "metadata": {},
   "outputs": [],
   "source": [
    "import wave\n",
    "\n",
    "def combine_audio(file1, file2, output_file):\n",
    "    with wave.open(file1, 'rb') as wav1, wave.open(file2, 'rb') as wav2, wave.open(output_file, 'wb') as wav_out:\n",
    "        # Set the parameters for the output file\n",
    "        wav_out.setparams(wav1.getparams())\n",
    "\n",
    "        # Write the frames from the first file\n",
    "        wav_out.writeframes(wav1.readframes(wav1.getnframes()))\n",
    "\n",
    "        # Write the frames from the second file\n",
    "        wav_out.writeframes(wav2.readframes(wav2.getnframes()))\n",
    "\n",
    "combine_audio(f\"{saving_directory}/English/file0.mp3\", f\"{saving_directory}/German/file0.mp3\", f\"{saving_directory}/file0.mp3\")"
   ]
  },
  {
   "cell_type": "code",
   "execution_count": 141,
   "metadata": {},
   "outputs": [
    {
     "ename": "CouldntDecodeError",
     "evalue": "Decoding failed. ffmpeg returned error code: 1\n\nOutput from ffmpeg/avlib:\n\nffmpeg version 2023-01-04-git-4a80db5fc2-essentials_build-www.gyan.dev Copyright (c) 2000-2023 the FFmpeg developers\r\n  built with gcc 12.1.0 (Rev2, Built by MSYS2 project)\r\n  configuration: --enable-gpl --enable-version3 --enable-static --disable-w32threads --disable-autodetect --enable-fontconfig --enable-iconv --enable-gnutls --enable-libxml2 --enable-gmp --enable-bzlib --enable-lzma --enable-zlib --enable-libsrt --enable-libssh --enable-libzmq --enable-avisynth --enable-sdl2 --enable-libwebp --enable-libx264 --enable-libx265 --enable-libxvid --enable-libaom --enable-libopenjpeg --enable-libvpx --enable-mediafoundation --enable-libass --enable-libfreetype --enable-libfribidi --enable-libvidstab --enable-libvmaf --enable-libzimg --enable-amf --enable-cuda-llvm --enable-cuvid --enable-ffnvcodec --enable-nvdec --enable-nvenc --enable-d3d11va --enable-dxva2 --enable-libvpl --enable-libgme --enable-libopenmpt --enable-libopencore-amrwb --enable-libmp3lame --enable-libtheora --enable-libvo-amrwbenc --enable-libgsm --enable-libopencore-amrnb --enable-libopus --enable-libspeex --enable-libvorbis --enable-librubberband\r\n  libavutil      57. 43.100 / 57. 43.100\r\n  libavcodec     59. 56.100 / 59. 56.100\r\n  libavformat    59. 34.102 / 59. 34.102\r\n  libavdevice    59.  8.101 / 59.  8.101\r\n  libavfilter     8. 53.100 /  8. 53.100\r\n  libswscale      6.  8.112 /  6.  8.112\r\n  libswresample   4.  9.100 /  4.  9.100\r\n  libpostproc    56.  7.100 / 56.  7.100\r\n[mp3float @ 0000020503bac940] Header missing\r\n    Last message repeated 55 times\r\n[mp3 @ 0000020503bab780] Could not find codec parameters for stream 0 (Audio: mp3 (mp3float), 0 channels, fltp): unspecified frame size\r\nConsider increasing the value for the 'analyzeduration' (0) and 'probesize' (5000000) options\r\nInput #0, mp3, from 'Files/English/file0.mp3':\r\n  Duration: N/A, start: 0.000000, bitrate: N/A\r\n  Stream #0:0: Audio: mp3, 0 channels, fltp\r\nStream mapping:\r\n  Stream #0:0 -> #0:0 (mp3 (mp3float) -> pcm_s16le (native))\r\nPress [q] to stop, [?] for help\r\n[mp3float @ 0000020503bacd40] Header missing\r\nError while decoding stream #0:0: Invalid data found when processing input\r\n[mp3float @ 0000020503bacd40] Header missing\r\nError while decoding stream #0:0: Invalid data found when processing input\r\n[mp3float @ 0000020503bacd40] Header missing\r\nError while decoding stream #0:0: Invalid data found when processing input\r\n[mp3float @ 0000020503bacd40] Header missing\r\nError while decoding stream #0:0: Invalid data found when processing input\r\n[mp3float @ 0000020503bacd40] Header missing\r\nError while decoding stream #0:0: Invalid data found when processing input\r\n[mp3float @ 0000020503bacd40] Header missing\r\nError while decoding stream #0:0: Invalid data found when processing input\r\n[mp3float @ 0000020503bacd40] Header missing\r\nError while decoding stream #0:0: Invalid data found when processing input\r\n[mp3float @ 0000020503bacd40] Header missing\r\nError while decoding stream #0:0: Invalid data found when processing input\r\n[mp3float @ 0000020503bacd40] Header missing\r\nError while decoding stream #0:0: Invalid data found when processing input\r\n[mp3float @ 0000020503bacd40] Header missing\r\nError while decoding stream #0:0: Invalid data found when processing input\r\n[mp3float @ 0000020503bacd40] Header missing\r\nError while decoding stream #0:0: Invalid data found when processing input\r\n[mp3float @ 0000020503bacd40] Header missing\r\nError while decoding stream #0:0: Invalid data found when processing input\r\n[mp3float @ 0000020503bacd40] Header missing\r\nError while decoding stream #0:0: Invalid data found when processing input\r\n[mp3float @ 0000020503bacd40] Header missing\r\nError while decoding stream #0:0: Invalid data found when processing input\r\n[mp3float @ 0000020503bacd40] Header missing\r\nError while decoding stream #0:0: Invalid data found when processing input\r\n[mp3float @ 0000020503bacd40] Header missing\r\nError while decoding stream #0:0: Invalid data found when processing input\r\n[mp3float @ 0000020503bacd40] Header missing\r\nError while decoding stream #0:0: Invalid data found when processing input\r\n[mp3float @ 0000020503bacd40] Header missing\r\nError while decoding stream #0:0: Invalid data found when processing input\r\n[mp3float @ 0000020503bacd40] Header missing\r\nError while decoding stream #0:0: Invalid data found when processing input\r\n[mp3float @ 0000020503bacd40] Header missing\r\nError while decoding stream #0:0: Invalid data found when processing input\r\n[mp3float @ 0000020503bacd40] Header missing\r\nError while decoding stream #0:0: Invalid data found when processing input\r\n[mp3float @ 0000020503bacd40] Header missing\r\nError while decoding stream #0:0: Invalid data found when processing input\r\n[mp3float @ 0000020503bacd40] Header missing\r\nError while decoding stream #0:0: Invalid data found when processing input\r\n[mp3float @ 0000020503bacd40] Header missing\r\nError while decoding stream #0:0: Invalid data found when processing input\r\n[mp3float @ 0000020503bacd40] Header missing\r\nError while decoding stream #0:0: Invalid data found when processing input\r\n[mp3float @ 0000020503bacd40] Header missing\r\nError while decoding stream #0:0: Invalid data found when processing input\r\n[mp3float @ 0000020503bacd40] Header missing\r\nError while decoding stream #0:0: Invalid data found when processing input\r\n[mp3float @ 0000020503bacd40] Header missing\r\nError while decoding stream #0:0: Invalid data found when processing input\r\n[mp3float @ 0000020503bacd40] Header missing\r\nError while decoding stream #0:0: Invalid data found when processing input\r\n[mp3float @ 0000020503bacd40] Header missing\r\nError while decoding stream #0:0: Invalid data found when processing input\r\n[mp3float @ 0000020503bacd40] Header missing\r\nError while decoding stream #0:0: Invalid data found when processing input\r\n[mp3float @ 0000020503bacd40] Header missing\r\nError while decoding stream #0:0: Invalid data found when processing input\r\n[mp3float @ 0000020503bacd40] Header missing\r\nError while decoding stream #0:0: Invalid data found when processing input\r\n[mp3float @ 0000020503bacd40] Header missing\r\nError while decoding stream #0:0: Invalid data found when processing input\r\n[mp3float @ 0000020503bacd40] Header missing\r\nError while decoding stream #0:0: Invalid data found when processing input\r\n[mp3float @ 0000020503bacd40] Header missing\r\nError while decoding stream #0:0: Invalid data found when processing input\r\n[mp3float @ 0000020503bacd40] Header missing\r\nError while decoding stream #0:0: Invalid data found when processing input\r\n[mp3float @ 0000020503bacd40] Header missing\r\nError while decoding stream #0:0: Invalid data found when processing input\r\n[mp3float @ 0000020503bacd40] Header missing\r\nError while decoding stream #0:0: Invalid data found when processing input\r\n[mp3float @ 0000020503bacd40] Header missing\r\nError while decoding stream #0:0: Invalid data found when processing input\r\n[mp3float @ 0000020503bacd40] Header missing\r\nError while decoding stream #0:0: Invalid data found when processing input\r\n[mp3float @ 0000020503bacd40] Header missing\r\nError while decoding stream #0:0: Invalid data found when processing input\r\n[mp3float @ 0000020503bacd40] Header missing\r\nError while decoding stream #0:0: Invalid data found when processing input\r\n[mp3float @ 0000020503bacd40] Header missing\r\nError while decoding stream #0:0: Invalid data found when processing input\r\n[mp3float @ 0000020503bacd40] Header missing\r\nError while decoding stream #0:0: Invalid data found when processing input\r\n[mp3float @ 0000020503bacd40] Header missing\r\nError while decoding stream #0:0: Invalid data found when processing input\r\n[mp3float @ 0000020503bacd40] Header missing\r\nError while decoding stream #0:0: Invalid data found when processing input\r\n[mp3float @ 0000020503bacd40] Header missing\r\nError while decoding stream #0:0: Invalid data found when processing input\r\n[mp3float @ 0000020503bacd40] Header missing\r\nError while decoding stream #0:0: Invalid data found when processing input\r\n[mp3float @ 0000020503bacd40] Header missing\r\nError while decoding stream #0:0: Invalid data found when processing input\r\n[mp3float @ 0000020503bacd40] Header missing\r\nError while decoding stream #0:0: Invalid data found when processing input\r\n[mp3float @ 0000020503bacd40] Header missing\r\nError while decoding stream #0:0: Invalid data found when processing input\r\n[mp3float @ 0000020503bacd40] Header missing\r\nError while decoding stream #0:0: Invalid data found when processing input\r\n[mp3float @ 0000020503bacd40] Header missing\r\nError while decoding stream #0:0: Invalid data found when processing input\r\n[mp3float @ 0000020503bacd40] Header missing\r\nError while decoding stream #0:0: Invalid data found when processing input\r\n[mp3float @ 0000020503bacd40] Header missing\r\nError while decoding stream #0:0: Invalid data found when processing input\r\n[abuffer @ 0000020503c8ef40] Value inf for parameter 'time_base' out of range [0 - 2.14748e+09]\r\n    Last message repeated 1 times\r\n[abuffer @ 0000020503c8ef40] Error setting option time_base to value 1/0.\r\n[graph_0_in_0_0 @ 0000020503bdd840] Error applying options to the filter.\r\nError reinitializing filters!\r\nError while filtering: Result too large\r\nFinishing stream 0:0 without any data written to it.\r\n[abuffer @ 0000020503c8ef40] Value inf for parameter 'time_base' out of range [0 - 2.14748e+09]\r\n    Last message repeated 1 times\r\n[abuffer @ 0000020503c8ef40] Error setting option time_base to value 1/0.\r\n[graph_0_in_0_0 @ 0000020503bdcf80] Error applying options to the filter.\r\nError configuring filter graph\r\nConversion failed!\r\n",
     "output_type": "error",
     "traceback": [
      "\u001b[1;31m---------------------------------------------------------------------------\u001b[0m",
      "\u001b[1;31mCouldntDecodeError\u001b[0m                        Traceback (most recent call last)",
      "Cell \u001b[1;32mIn[141], line 9\u001b[0m\n\u001b[0;32m      6\u001b[0m     combined_sound \u001b[39m=\u001b[39m sound1 \u001b[39m+\u001b[39m sound2\n\u001b[0;32m      7\u001b[0m     combined_sound\u001b[39m.\u001b[39mexport(output_file, \u001b[39mformat\u001b[39m\u001b[39m=\u001b[39m\u001b[39m\"\u001b[39m\u001b[39mmp3\u001b[39m\u001b[39m\"\u001b[39m)\n\u001b[1;32m----> 9\u001b[0m combine_mp3(\u001b[39mf\u001b[39;49m\u001b[39m\"\u001b[39;49m\u001b[39m{\u001b[39;49;00msaving_directory\u001b[39m}\u001b[39;49;00m\u001b[39m/English/file0.mp3\u001b[39;49m\u001b[39m\"\u001b[39;49m, \u001b[39mf\u001b[39;49m\u001b[39m\"\u001b[39;49m\u001b[39m{\u001b[39;49;00msaving_directory\u001b[39m}\u001b[39;49;00m\u001b[39m/German/file0.mp3\u001b[39;49m\u001b[39m\"\u001b[39;49m, \u001b[39mf\u001b[39;49m\u001b[39m\"\u001b[39;49m\u001b[39m{\u001b[39;49;00msaving_directory\u001b[39m}\u001b[39;49;00m\u001b[39m/file0.mp3\u001b[39;49m\u001b[39m\"\u001b[39;49m)\n",
      "Cell \u001b[1;32mIn[141], line 4\u001b[0m, in \u001b[0;36mcombine_mp3\u001b[1;34m(file1, file2, output_file)\u001b[0m\n\u001b[0;32m      3\u001b[0m \u001b[39mdef\u001b[39;00m \u001b[39mcombine_mp3\u001b[39m(file1, file2, output_file):\n\u001b[1;32m----> 4\u001b[0m     sound1 \u001b[39m=\u001b[39m AudioSegment\u001b[39m.\u001b[39;49mfrom_file(file1, \u001b[39mformat\u001b[39;49m\u001b[39m=\u001b[39;49m\u001b[39m\"\u001b[39;49m\u001b[39mmp3\u001b[39;49m\u001b[39m\"\u001b[39;49m)\n\u001b[0;32m      5\u001b[0m     sound2 \u001b[39m=\u001b[39m AudioSegment\u001b[39m.\u001b[39mfrom_file(file2, \u001b[39mformat\u001b[39m\u001b[39m=\u001b[39m\u001b[39m\"\u001b[39m\u001b[39mmp3\u001b[39m\u001b[39m\"\u001b[39m)\n\u001b[0;32m      6\u001b[0m     combined_sound \u001b[39m=\u001b[39m sound1 \u001b[39m+\u001b[39m sound2\n",
      "File \u001b[1;32mc:\\Python310\\lib\\site-packages\\pydub\\audio_segment.py:773\u001b[0m, in \u001b[0;36mAudioSegment.from_file\u001b[1;34m(cls, file, format, codec, parameters, start_second, duration, **kwargs)\u001b[0m\n\u001b[0;32m    771\u001b[0m     \u001b[39mif\u001b[39;00m close_file:\n\u001b[0;32m    772\u001b[0m         file\u001b[39m.\u001b[39mclose()\n\u001b[1;32m--> 773\u001b[0m     \u001b[39mraise\u001b[39;00m CouldntDecodeError(\n\u001b[0;32m    774\u001b[0m         \u001b[39m\"\u001b[39m\u001b[39mDecoding failed. ffmpeg returned error code: \u001b[39m\u001b[39m{0}\u001b[39;00m\u001b[39m\\n\u001b[39;00m\u001b[39m\\n\u001b[39;00m\u001b[39mOutput from ffmpeg/avlib:\u001b[39m\u001b[39m\\n\u001b[39;00m\u001b[39m\\n\u001b[39;00m\u001b[39m{1}\u001b[39;00m\u001b[39m\"\u001b[39m\u001b[39m.\u001b[39mformat(\n\u001b[0;32m    775\u001b[0m             p\u001b[39m.\u001b[39mreturncode, p_err\u001b[39m.\u001b[39mdecode(errors\u001b[39m=\u001b[39m\u001b[39m'\u001b[39m\u001b[39mignore\u001b[39m\u001b[39m'\u001b[39m) ))\n\u001b[0;32m    777\u001b[0m p_out \u001b[39m=\u001b[39m \u001b[39mbytearray\u001b[39m(p_out)\n\u001b[0;32m    778\u001b[0m fix_wav_headers(p_out)\n",
      "\u001b[1;31mCouldntDecodeError\u001b[0m: Decoding failed. ffmpeg returned error code: 1\n\nOutput from ffmpeg/avlib:\n\nffmpeg version 2023-01-04-git-4a80db5fc2-essentials_build-www.gyan.dev Copyright (c) 2000-2023 the FFmpeg developers\r\n  built with gcc 12.1.0 (Rev2, Built by MSYS2 project)\r\n  configuration: --enable-gpl --enable-version3 --enable-static --disable-w32threads --disable-autodetect --enable-fontconfig --enable-iconv --enable-gnutls --enable-libxml2 --enable-gmp --enable-bzlib --enable-lzma --enable-zlib --enable-libsrt --enable-libssh --enable-libzmq --enable-avisynth --enable-sdl2 --enable-libwebp --enable-libx264 --enable-libx265 --enable-libxvid --enable-libaom --enable-libopenjpeg --enable-libvpx --enable-mediafoundation --enable-libass --enable-libfreetype --enable-libfribidi --enable-libvidstab --enable-libvmaf --enable-libzimg --enable-amf --enable-cuda-llvm --enable-cuvid --enable-ffnvcodec --enable-nvdec --enable-nvenc --enable-d3d11va --enable-dxva2 --enable-libvpl --enable-libgme --enable-libopenmpt --enable-libopencore-amrwb --enable-libmp3lame --enable-libtheora --enable-libvo-amrwbenc --enable-libgsm --enable-libopencore-amrnb --enable-libopus --enable-libspeex --enable-libvorbis --enable-librubberband\r\n  libavutil      57. 43.100 / 57. 43.100\r\n  libavcodec     59. 56.100 / 59. 56.100\r\n  libavformat    59. 34.102 / 59. 34.102\r\n  libavdevice    59.  8.101 / 59.  8.101\r\n  libavfilter     8. 53.100 /  8. 53.100\r\n  libswscale      6.  8.112 /  6.  8.112\r\n  libswresample   4.  9.100 /  4.  9.100\r\n  libpostproc    56.  7.100 / 56.  7.100\r\n[mp3float @ 0000020503bac940] Header missing\r\n    Last message repeated 55 times\r\n[mp3 @ 0000020503bab780] Could not find codec parameters for stream 0 (Audio: mp3 (mp3float), 0 channels, fltp): unspecified frame size\r\nConsider increasing the value for the 'analyzeduration' (0) and 'probesize' (5000000) options\r\nInput #0, mp3, from 'Files/English/file0.mp3':\r\n  Duration: N/A, start: 0.000000, bitrate: N/A\r\n  Stream #0:0: Audio: mp3, 0 channels, fltp\r\nStream mapping:\r\n  Stream #0:0 -> #0:0 (mp3 (mp3float) -> pcm_s16le (native))\r\nPress [q] to stop, [?] for help\r\n[mp3float @ 0000020503bacd40] Header missing\r\nError while decoding stream #0:0: Invalid data found when processing input\r\n[mp3float @ 0000020503bacd40] Header missing\r\nError while decoding stream #0:0: Invalid data found when processing input\r\n[mp3float @ 0000020503bacd40] Header missing\r\nError while decoding stream #0:0: Invalid data found when processing input\r\n[mp3float @ 0000020503bacd40] Header missing\r\nError while decoding stream #0:0: Invalid data found when processing input\r\n[mp3float @ 0000020503bacd40] Header missing\r\nError while decoding stream #0:0: Invalid data found when processing input\r\n[mp3float @ 0000020503bacd40] Header missing\r\nError while decoding stream #0:0: Invalid data found when processing input\r\n[mp3float @ 0000020503bacd40] Header missing\r\nError while decoding stream #0:0: Invalid data found when processing input\r\n[mp3float @ 0000020503bacd40] Header missing\r\nError while decoding stream #0:0: Invalid data found when processing input\r\n[mp3float @ 0000020503bacd40] Header missing\r\nError while decoding stream #0:0: Invalid data found when processing input\r\n[mp3float @ 0000020503bacd40] Header missing\r\nError while decoding stream #0:0: Invalid data found when processing input\r\n[mp3float @ 0000020503bacd40] Header missing\r\nError while decoding stream #0:0: Invalid data found when processing input\r\n[mp3float @ 0000020503bacd40] Header missing\r\nError while decoding stream #0:0: Invalid data found when processing input\r\n[mp3float @ 0000020503bacd40] Header missing\r\nError while decoding stream #0:0: Invalid data found when processing input\r\n[mp3float @ 0000020503bacd40] Header missing\r\nError while decoding stream #0:0: Invalid data found when processing input\r\n[mp3float @ 0000020503bacd40] Header missing\r\nError while decoding stream #0:0: Invalid data found when processing input\r\n[mp3float @ 0000020503bacd40] Header missing\r\nError while decoding stream #0:0: Invalid data found when processing input\r\n[mp3float @ 0000020503bacd40] Header missing\r\nError while decoding stream #0:0: Invalid data found when processing input\r\n[mp3float @ 0000020503bacd40] Header missing\r\nError while decoding stream #0:0: Invalid data found when processing input\r\n[mp3float @ 0000020503bacd40] Header missing\r\nError while decoding stream #0:0: Invalid data found when processing input\r\n[mp3float @ 0000020503bacd40] Header missing\r\nError while decoding stream #0:0: Invalid data found when processing input\r\n[mp3float @ 0000020503bacd40] Header missing\r\nError while decoding stream #0:0: Invalid data found when processing input\r\n[mp3float @ 0000020503bacd40] Header missing\r\nError while decoding stream #0:0: Invalid data found when processing input\r\n[mp3float @ 0000020503bacd40] Header missing\r\nError while decoding stream #0:0: Invalid data found when processing input\r\n[mp3float @ 0000020503bacd40] Header missing\r\nError while decoding stream #0:0: Invalid data found when processing input\r\n[mp3float @ 0000020503bacd40] Header missing\r\nError while decoding stream #0:0: Invalid data found when processing input\r\n[mp3float @ 0000020503bacd40] Header missing\r\nError while decoding stream #0:0: Invalid data found when processing input\r\n[mp3float @ 0000020503bacd40] Header missing\r\nError while decoding stream #0:0: Invalid data found when processing input\r\n[mp3float @ 0000020503bacd40] Header missing\r\nError while decoding stream #0:0: Invalid data found when processing input\r\n[mp3float @ 0000020503bacd40] Header missing\r\nError while decoding stream #0:0: Invalid data found when processing input\r\n[mp3float @ 0000020503bacd40] Header missing\r\nError while decoding stream #0:0: Invalid data found when processing input\r\n[mp3float @ 0000020503bacd40] Header missing\r\nError while decoding stream #0:0: Invalid data found when processing input\r\n[mp3float @ 0000020503bacd40] Header missing\r\nError while decoding stream #0:0: Invalid data found when processing input\r\n[mp3float @ 0000020503bacd40] Header missing\r\nError while decoding stream #0:0: Invalid data found when processing input\r\n[mp3float @ 0000020503bacd40] Header missing\r\nError while decoding stream #0:0: Invalid data found when processing input\r\n[mp3float @ 0000020503bacd40] Header missing\r\nError while decoding stream #0:0: Invalid data found when processing input\r\n[mp3float @ 0000020503bacd40] Header missing\r\nError while decoding stream #0:0: Invalid data found when processing input\r\n[mp3float @ 0000020503bacd40] Header missing\r\nError while decoding stream #0:0: Invalid data found when processing input\r\n[mp3float @ 0000020503bacd40] Header missing\r\nError while decoding stream #0:0: Invalid data found when processing input\r\n[mp3float @ 0000020503bacd40] Header missing\r\nError while decoding stream #0:0: Invalid data found when processing input\r\n[mp3float @ 0000020503bacd40] Header missing\r\nError while decoding stream #0:0: Invalid data found when processing input\r\n[mp3float @ 0000020503bacd40] Header missing\r\nError while decoding stream #0:0: Invalid data found when processing input\r\n[mp3float @ 0000020503bacd40] Header missing\r\nError while decoding stream #0:0: Invalid data found when processing input\r\n[mp3float @ 0000020503bacd40] Header missing\r\nError while decoding stream #0:0: Invalid data found when processing input\r\n[mp3float @ 0000020503bacd40] Header missing\r\nError while decoding stream #0:0: Invalid data found when processing input\r\n[mp3float @ 0000020503bacd40] Header missing\r\nError while decoding stream #0:0: Invalid data found when processing input\r\n[mp3float @ 0000020503bacd40] Header missing\r\nError while decoding stream #0:0: Invalid data found when processing input\r\n[mp3float @ 0000020503bacd40] Header missing\r\nError while decoding stream #0:0: Invalid data found when processing input\r\n[mp3float @ 0000020503bacd40] Header missing\r\nError while decoding stream #0:0: Invalid data found when processing input\r\n[mp3float @ 0000020503bacd40] Header missing\r\nError while decoding stream #0:0: Invalid data found when processing input\r\n[mp3float @ 0000020503bacd40] Header missing\r\nError while decoding stream #0:0: Invalid data found when processing input\r\n[mp3float @ 0000020503bacd40] Header missing\r\nError while decoding stream #0:0: Invalid data found when processing input\r\n[mp3float @ 0000020503bacd40] Header missing\r\nError while decoding stream #0:0: Invalid data found when processing input\r\n[mp3float @ 0000020503bacd40] Header missing\r\nError while decoding stream #0:0: Invalid data found when processing input\r\n[mp3float @ 0000020503bacd40] Header missing\r\nError while decoding stream #0:0: Invalid data found when processing input\r\n[mp3float @ 0000020503bacd40] Header missing\r\nError while decoding stream #0:0: Invalid data found when processing input\r\n[mp3float @ 0000020503bacd40] Header missing\r\nError while decoding stream #0:0: Invalid data found when processing input\r\n[abuffer @ 0000020503c8ef40] Value inf for parameter 'time_base' out of range [0 - 2.14748e+09]\r\n    Last message repeated 1 times\r\n[abuffer @ 0000020503c8ef40] Error setting option time_base to value 1/0.\r\n[graph_0_in_0_0 @ 0000020503bdd840] Error applying options to the filter.\r\nError reinitializing filters!\r\nError while filtering: Result too large\r\nFinishing stream 0:0 without any data written to it.\r\n[abuffer @ 0000020503c8ef40] Value inf for parameter 'time_base' out of range [0 - 2.14748e+09]\r\n    Last message repeated 1 times\r\n[abuffer @ 0000020503c8ef40] Error setting option time_base to value 1/0.\r\n[graph_0_in_0_0 @ 0000020503bdcf80] Error applying options to the filter.\r\nError configuring filter graph\r\nConversion failed!\r\n"
     ]
    }
   ],
   "source": [
    "from pydub import AudioSegment\n",
    "\n",
    "def combine_mp3(file1, file2, output_file):\n",
    "    sound1 = AudioSegment.from_file(file1, format=\"mp3\")\n",
    "    sound2 = AudioSegment.from_file(file2, format=\"mp3\")\n",
    "    combined_sound = sound1 + sound2\n",
    "    combined_sound.export(output_file, format=\"mp3\")\n",
    "\n",
    "combine_mp3(f\"{saving_directory}/English/file0.mp3\", f\"{saving_directory}/German/file0.mp3\", f\"{saving_directory}/file0.mp3\")"
   ]
  },
  {
   "cell_type": "code",
   "execution_count": 140,
   "metadata": {},
   "outputs": [
    {
     "ename": "CouldntDecodeError",
     "evalue": "Decoding failed. ffmpeg returned error code: 1\n\nOutput from ffmpeg/avlib:\n\nffmpeg version 2023-01-04-git-4a80db5fc2-essentials_build-www.gyan.dev Copyright (c) 2000-2023 the FFmpeg developers\r\n  built with gcc 12.1.0 (Rev2, Built by MSYS2 project)\r\n  configuration: --enable-gpl --enable-version3 --enable-static --disable-w32threads --disable-autodetect --enable-fontconfig --enable-iconv --enable-gnutls --enable-libxml2 --enable-gmp --enable-bzlib --enable-lzma --enable-zlib --enable-libsrt --enable-libssh --enable-libzmq --enable-avisynth --enable-sdl2 --enable-libwebp --enable-libx264 --enable-libx265 --enable-libxvid --enable-libaom --enable-libopenjpeg --enable-libvpx --enable-mediafoundation --enable-libass --enable-libfreetype --enable-libfribidi --enable-libvidstab --enable-libvmaf --enable-libzimg --enable-amf --enable-cuda-llvm --enable-cuvid --enable-ffnvcodec --enable-nvdec --enable-nvenc --enable-d3d11va --enable-dxva2 --enable-libvpl --enable-libgme --enable-libopenmpt --enable-libopencore-amrwb --enable-libmp3lame --enable-libtheora --enable-libvo-amrwbenc --enable-libgsm --enable-libopencore-amrnb --enable-libopus --enable-libspeex --enable-libvorbis --enable-librubberband\r\n  libavutil      57. 43.100 / 57. 43.100\r\n  libavcodec     59. 56.100 / 59. 56.100\r\n  libavformat    59. 34.102 / 59. 34.102\r\n  libavdevice    59.  8.101 / 59.  8.101\r\n  libavfilter     8. 53.100 /  8. 53.100\r\n  libswscale      6.  8.112 /  6.  8.112\r\n  libswresample   4.  9.100 /  4.  9.100\r\n  libpostproc    56.  7.100 / 56.  7.100\r\n[mp3float @ 0000019af70fc940] Header missing\r\n    Last message repeated 55 times\r\n[mp3 @ 0000019af70fb780] Could not find codec parameters for stream 0 (Audio: mp3 (mp3float), 0 channels, fltp): unspecified frame size\r\nConsider increasing the value for the 'analyzeduration' (0) and 'probesize' (5000000) options\r\nInput #0, mp3, from 'Files/German\\file0.mp3':\r\n  Duration: N/A, start: 0.000000, bitrate: N/A\r\n  Stream #0:0: Audio: mp3, 0 channels, fltp\r\nStream mapping:\r\n  Stream #0:0 -> #0:0 (mp3 (mp3float) -> pcm_s16le (native))\r\nPress [q] to stop, [?] for help\r\n[mp3float @ 0000019af70fcd40] Header missing\r\nError while decoding stream #0:0: Invalid data found when processing input\r\n[mp3float @ 0000019af70fcd40] Header missing\r\nError while decoding stream #0:0: Invalid data found when processing input\r\n[mp3float @ 0000019af70fcd40] Header missing\r\nError while decoding stream #0:0: Invalid data found when processing input\r\n[mp3float @ 0000019af70fcd40] Header missing\r\nError while decoding stream #0:0: Invalid data found when processing input\r\n[mp3float @ 0000019af70fcd40] Header missing\r\nError while decoding stream #0:0: Invalid data found when processing input\r\n[mp3float @ 0000019af70fcd40] Header missing\r\nError while decoding stream #0:0: Invalid data found when processing input\r\n[mp3float @ 0000019af70fcd40] Header missing\r\nError while decoding stream #0:0: Invalid data found when processing input\r\n[mp3float @ 0000019af70fcd40] Header missing\r\nError while decoding stream #0:0: Invalid data found when processing input\r\n[mp3float @ 0000019af70fcd40] Header missing\r\nError while decoding stream #0:0: Invalid data found when processing input\r\n[mp3float @ 0000019af70fcd40] Header missing\r\nError while decoding stream #0:0: Invalid data found when processing input\r\n[mp3float @ 0000019af70fcd40] Header missing\r\nError while decoding stream #0:0: Invalid data found when processing input\r\n[mp3float @ 0000019af70fcd40] Header missing\r\nError while decoding stream #0:0: Invalid data found when processing input\r\n[mp3float @ 0000019af70fcd40] Header missing\r\nError while decoding stream #0:0: Invalid data found when processing input\r\n[mp3float @ 0000019af70fcd40] Header missing\r\nError while decoding stream #0:0: Invalid data found when processing input\r\n[mp3float @ 0000019af70fcd40] Header missing\r\nError while decoding stream #0:0: Invalid data found when processing input\r\n[mp3float @ 0000019af70fcd40] Header missing\r\nError while decoding stream #0:0: Invalid data found when processing input\r\n[mp3float @ 0000019af70fcd40] Header missing\r\nError while decoding stream #0:0: Invalid data found when processing input\r\n[mp3float @ 0000019af70fcd40] Header missing\r\nError while decoding stream #0:0: Invalid data found when processing input\r\n[mp3float @ 0000019af70fcd40] Header missing\r\nError while decoding stream #0:0: Invalid data found when processing input\r\n[mp3float @ 0000019af70fcd40] Header missing\r\nError while decoding stream #0:0: Invalid data found when processing input\r\n[mp3float @ 0000019af70fcd40] Header missing\r\nError while decoding stream #0:0: Invalid data found when processing input\r\n[mp3float @ 0000019af70fcd40] Header missing\r\nError while decoding stream #0:0: Invalid data found when processing input\r\n[mp3float @ 0000019af70fcd40] Header missing\r\nError while decoding stream #0:0: Invalid data found when processing input\r\n[mp3float @ 0000019af70fcd40] Header missing\r\nError while decoding stream #0:0: Invalid data found when processing input\r\n[mp3float @ 0000019af70fcd40] Header missing\r\nError while decoding stream #0:0: Invalid data found when processing input\r\n[mp3float @ 0000019af70fcd40] Header missing\r\nError while decoding stream #0:0: Invalid data found when processing input\r\n[mp3float @ 0000019af70fcd40] Header missing\r\nError while decoding stream #0:0: Invalid data found when processing input\r\n[mp3float @ 0000019af70fcd40] Header missing\r\nError while decoding stream #0:0: Invalid data found when processing input\r\n[mp3float @ 0000019af70fcd40] Header missing\r\nError while decoding stream #0:0: Invalid data found when processing input\r\n[mp3float @ 0000019af70fcd40] Header missing\r\nError while decoding stream #0:0: Invalid data found when processing input\r\n[mp3float @ 0000019af70fcd40] Header missing\r\nError while decoding stream #0:0: Invalid data found when processing input\r\n[mp3float @ 0000019af70fcd40] Header missing\r\nError while decoding stream #0:0: Invalid data found when processing input\r\n[mp3float @ 0000019af70fcd40] Header missing\r\nError while decoding stream #0:0: Invalid data found when processing input\r\n[mp3float @ 0000019af70fcd40] Header missing\r\nError while decoding stream #0:0: Invalid data found when processing input\r\n[mp3float @ 0000019af70fcd40] Header missing\r\nError while decoding stream #0:0: Invalid data found when processing input\r\n[mp3float @ 0000019af70fcd40] Header missing\r\nError while decoding stream #0:0: Invalid data found when processing input\r\n[mp3float @ 0000019af70fcd40] Header missing\r\nError while decoding stream #0:0: Invalid data found when processing input\r\n[mp3float @ 0000019af70fcd40] Header missing\r\nError while decoding stream #0:0: Invalid data found when processing input\r\n[mp3float @ 0000019af70fcd40] Header missing\r\nError while decoding stream #0:0: Invalid data found when processing input\r\n[mp3float @ 0000019af70fcd40] Header missing\r\nError while decoding stream #0:0: Invalid data found when processing input\r\n[mp3float @ 0000019af70fcd40] Header missing\r\nError while decoding stream #0:0: Invalid data found when processing input\r\n[mp3float @ 0000019af70fcd40] Header missing\r\nError while decoding stream #0:0: Invalid data found when processing input\r\n[mp3float @ 0000019af70fcd40] Header missing\r\nError while decoding stream #0:0: Invalid data found when processing input\r\n[mp3float @ 0000019af70fcd40] Header missing\r\nError while decoding stream #0:0: Invalid data found when processing input\r\n[mp3float @ 0000019af70fcd40] Header missing\r\nError while decoding stream #0:0: Invalid data found when processing input\r\n[mp3float @ 0000019af70fcd40] Header missing\r\nError while decoding stream #0:0: Invalid data found when processing input\r\n[mp3float @ 0000019af70fcd40] Header missing\r\nError while decoding stream #0:0: Invalid data found when processing input\r\n[mp3float @ 0000019af70fcd40] Header missing\r\nError while decoding stream #0:0: Invalid data found when processing input\r\n[mp3float @ 0000019af70fcd40] Header missing\r\nError while decoding stream #0:0: Invalid data found when processing input\r\n[mp3float @ 0000019af70fcd40] Header missing\r\nError while decoding stream #0:0: Invalid data found when processing input\r\n[mp3float @ 0000019af70fcd40] Header missing\r\nError while decoding stream #0:0: Invalid data found when processing input\r\n[mp3float @ 0000019af70fcd40] Header missing\r\nError while decoding stream #0:0: Invalid data found when processing input\r\n[mp3float @ 0000019af70fcd40] Header missing\r\nError while decoding stream #0:0: Invalid data found when processing input\r\n[mp3float @ 0000019af70fcd40] Header missing\r\nError while decoding stream #0:0: Invalid data found when processing input\r\n[mp3float @ 0000019af70fcd40] Header missing\r\nError while decoding stream #0:0: Invalid data found when processing input\r\n[mp3float @ 0000019af70fcd40] Header missing\r\nError while decoding stream #0:0: Invalid data found when processing input\r\n[abuffer @ 0000019af592ef40] Value inf for parameter 'time_base' out of range [0 - 2.14748e+09]\r\n    Last message repeated 1 times\r\n[abuffer @ 0000019af592ef40] Error setting option time_base to value 1/0.\r\n[graph_0_in_0_0 @ 0000019af712de00] Error applying options to the filter.\r\nError reinitializing filters!\r\nError while filtering: Result too large\r\nFinishing stream 0:0 without any data written to it.\r\n[abuffer @ 0000019af592ef40] Value inf for parameter 'time_base' out of range [0 - 2.14748e+09]\r\n    Last message repeated 1 times\r\n[abuffer @ 0000019af592ef40] Error setting option time_base to value 1/0.\r\n[graph_0_in_0_0 @ 0000019af712d540] Error applying options to the filter.\r\nError configuring filter graph\r\nConversion failed!\r\n",
     "output_type": "error",
     "traceback": [
      "\u001b[1;31m---------------------------------------------------------------------------\u001b[0m",
      "\u001b[1;31mCouldntDecodeError\u001b[0m                        Traceback (most recent call last)",
      "Cell \u001b[1;32mIn[140], line 7\u001b[0m\n\u001b[0;32m      5\u001b[0m combined_audio \u001b[39m=\u001b[39m AudioSegment\u001b[39m.\u001b[39mempty()\n\u001b[0;32m      6\u001b[0m \u001b[39mfor\u001b[39;00m (english_file, german_file) \u001b[39min\u001b[39;00m \u001b[39mzip\u001b[39m(english_files, german_files):\n\u001b[1;32m----> 7\u001b[0m     combined_audio \u001b[39m+\u001b[39m\u001b[39m=\u001b[39m AudioSegment\u001b[39m.\u001b[39;49mfrom_mp3(german_file)\n\u001b[0;32m      8\u001b[0m     combined_audio \u001b[39m+\u001b[39m\u001b[39m=\u001b[39m AudioSegment\u001b[39m.\u001b[39mfrom_mp3(english_file)\n\u001b[0;32m     10\u001b[0m combined_audio\u001b[39m.\u001b[39mexport(\u001b[39mf\u001b[39m\u001b[39m\"\u001b[39m\u001b[39m{\u001b[39;00msaving_directory\u001b[39m}\u001b[39;00m\u001b[39m/combined_audio.mp3\u001b[39m\u001b[39m\"\u001b[39m, \u001b[39mformat\u001b[39m\u001b[39m=\u001b[39m\u001b[39m\"\u001b[39m\u001b[39mmp3\u001b[39m\u001b[39m\"\u001b[39m)\n",
      "File \u001b[1;32mc:\\Python310\\lib\\site-packages\\pydub\\audio_segment.py:796\u001b[0m, in \u001b[0;36mAudioSegment.from_mp3\u001b[1;34m(cls, file, parameters)\u001b[0m\n\u001b[0;32m    794\u001b[0m \u001b[39m@classmethod\u001b[39m\n\u001b[0;32m    795\u001b[0m \u001b[39mdef\u001b[39;00m \u001b[39mfrom_mp3\u001b[39m(\u001b[39mcls\u001b[39m, file, parameters\u001b[39m=\u001b[39m\u001b[39mNone\u001b[39;00m):\n\u001b[1;32m--> 796\u001b[0m     \u001b[39mreturn\u001b[39;00m \u001b[39mcls\u001b[39;49m\u001b[39m.\u001b[39;49mfrom_file(file, \u001b[39m'\u001b[39;49m\u001b[39mmp3\u001b[39;49m\u001b[39m'\u001b[39;49m, parameters\u001b[39m=\u001b[39;49mparameters)\n",
      "File \u001b[1;32mc:\\Python310\\lib\\site-packages\\pydub\\audio_segment.py:773\u001b[0m, in \u001b[0;36mAudioSegment.from_file\u001b[1;34m(cls, file, format, codec, parameters, start_second, duration, **kwargs)\u001b[0m\n\u001b[0;32m    771\u001b[0m     \u001b[39mif\u001b[39;00m close_file:\n\u001b[0;32m    772\u001b[0m         file\u001b[39m.\u001b[39mclose()\n\u001b[1;32m--> 773\u001b[0m     \u001b[39mraise\u001b[39;00m CouldntDecodeError(\n\u001b[0;32m    774\u001b[0m         \u001b[39m\"\u001b[39m\u001b[39mDecoding failed. ffmpeg returned error code: \u001b[39m\u001b[39m{0}\u001b[39;00m\u001b[39m\\n\u001b[39;00m\u001b[39m\\n\u001b[39;00m\u001b[39mOutput from ffmpeg/avlib:\u001b[39m\u001b[39m\\n\u001b[39;00m\u001b[39m\\n\u001b[39;00m\u001b[39m{1}\u001b[39;00m\u001b[39m\"\u001b[39m\u001b[39m.\u001b[39mformat(\n\u001b[0;32m    775\u001b[0m             p\u001b[39m.\u001b[39mreturncode, p_err\u001b[39m.\u001b[39mdecode(errors\u001b[39m=\u001b[39m\u001b[39m'\u001b[39m\u001b[39mignore\u001b[39m\u001b[39m'\u001b[39m) ))\n\u001b[0;32m    777\u001b[0m p_out \u001b[39m=\u001b[39m \u001b[39mbytearray\u001b[39m(p_out)\n\u001b[0;32m    778\u001b[0m fix_wav_headers(p_out)\n",
      "\u001b[1;31mCouldntDecodeError\u001b[0m: Decoding failed. ffmpeg returned error code: 1\n\nOutput from ffmpeg/avlib:\n\nffmpeg version 2023-01-04-git-4a80db5fc2-essentials_build-www.gyan.dev Copyright (c) 2000-2023 the FFmpeg developers\r\n  built with gcc 12.1.0 (Rev2, Built by MSYS2 project)\r\n  configuration: --enable-gpl --enable-version3 --enable-static --disable-w32threads --disable-autodetect --enable-fontconfig --enable-iconv --enable-gnutls --enable-libxml2 --enable-gmp --enable-bzlib --enable-lzma --enable-zlib --enable-libsrt --enable-libssh --enable-libzmq --enable-avisynth --enable-sdl2 --enable-libwebp --enable-libx264 --enable-libx265 --enable-libxvid --enable-libaom --enable-libopenjpeg --enable-libvpx --enable-mediafoundation --enable-libass --enable-libfreetype --enable-libfribidi --enable-libvidstab --enable-libvmaf --enable-libzimg --enable-amf --enable-cuda-llvm --enable-cuvid --enable-ffnvcodec --enable-nvdec --enable-nvenc --enable-d3d11va --enable-dxva2 --enable-libvpl --enable-libgme --enable-libopenmpt --enable-libopencore-amrwb --enable-libmp3lame --enable-libtheora --enable-libvo-amrwbenc --enable-libgsm --enable-libopencore-amrnb --enable-libopus --enable-libspeex --enable-libvorbis --enable-librubberband\r\n  libavutil      57. 43.100 / 57. 43.100\r\n  libavcodec     59. 56.100 / 59. 56.100\r\n  libavformat    59. 34.102 / 59. 34.102\r\n  libavdevice    59.  8.101 / 59.  8.101\r\n  libavfilter     8. 53.100 /  8. 53.100\r\n  libswscale      6.  8.112 /  6.  8.112\r\n  libswresample   4.  9.100 /  4.  9.100\r\n  libpostproc    56.  7.100 / 56.  7.100\r\n[mp3float @ 0000019af70fc940] Header missing\r\n    Last message repeated 55 times\r\n[mp3 @ 0000019af70fb780] Could not find codec parameters for stream 0 (Audio: mp3 (mp3float), 0 channels, fltp): unspecified frame size\r\nConsider increasing the value for the 'analyzeduration' (0) and 'probesize' (5000000) options\r\nInput #0, mp3, from 'Files/German\\file0.mp3':\r\n  Duration: N/A, start: 0.000000, bitrate: N/A\r\n  Stream #0:0: Audio: mp3, 0 channels, fltp\r\nStream mapping:\r\n  Stream #0:0 -> #0:0 (mp3 (mp3float) -> pcm_s16le (native))\r\nPress [q] to stop, [?] for help\r\n[mp3float @ 0000019af70fcd40] Header missing\r\nError while decoding stream #0:0: Invalid data found when processing input\r\n[mp3float @ 0000019af70fcd40] Header missing\r\nError while decoding stream #0:0: Invalid data found when processing input\r\n[mp3float @ 0000019af70fcd40] Header missing\r\nError while decoding stream #0:0: Invalid data found when processing input\r\n[mp3float @ 0000019af70fcd40] Header missing\r\nError while decoding stream #0:0: Invalid data found when processing input\r\n[mp3float @ 0000019af70fcd40] Header missing\r\nError while decoding stream #0:0: Invalid data found when processing input\r\n[mp3float @ 0000019af70fcd40] Header missing\r\nError while decoding stream #0:0: Invalid data found when processing input\r\n[mp3float @ 0000019af70fcd40] Header missing\r\nError while decoding stream #0:0: Invalid data found when processing input\r\n[mp3float @ 0000019af70fcd40] Header missing\r\nError while decoding stream #0:0: Invalid data found when processing input\r\n[mp3float @ 0000019af70fcd40] Header missing\r\nError while decoding stream #0:0: Invalid data found when processing input\r\n[mp3float @ 0000019af70fcd40] Header missing\r\nError while decoding stream #0:0: Invalid data found when processing input\r\n[mp3float @ 0000019af70fcd40] Header missing\r\nError while decoding stream #0:0: Invalid data found when processing input\r\n[mp3float @ 0000019af70fcd40] Header missing\r\nError while decoding stream #0:0: Invalid data found when processing input\r\n[mp3float @ 0000019af70fcd40] Header missing\r\nError while decoding stream #0:0: Invalid data found when processing input\r\n[mp3float @ 0000019af70fcd40] Header missing\r\nError while decoding stream #0:0: Invalid data found when processing input\r\n[mp3float @ 0000019af70fcd40] Header missing\r\nError while decoding stream #0:0: Invalid data found when processing input\r\n[mp3float @ 0000019af70fcd40] Header missing\r\nError while decoding stream #0:0: Invalid data found when processing input\r\n[mp3float @ 0000019af70fcd40] Header missing\r\nError while decoding stream #0:0: Invalid data found when processing input\r\n[mp3float @ 0000019af70fcd40] Header missing\r\nError while decoding stream #0:0: Invalid data found when processing input\r\n[mp3float @ 0000019af70fcd40] Header missing\r\nError while decoding stream #0:0: Invalid data found when processing input\r\n[mp3float @ 0000019af70fcd40] Header missing\r\nError while decoding stream #0:0: Invalid data found when processing input\r\n[mp3float @ 0000019af70fcd40] Header missing\r\nError while decoding stream #0:0: Invalid data found when processing input\r\n[mp3float @ 0000019af70fcd40] Header missing\r\nError while decoding stream #0:0: Invalid data found when processing input\r\n[mp3float @ 0000019af70fcd40] Header missing\r\nError while decoding stream #0:0: Invalid data found when processing input\r\n[mp3float @ 0000019af70fcd40] Header missing\r\nError while decoding stream #0:0: Invalid data found when processing input\r\n[mp3float @ 0000019af70fcd40] Header missing\r\nError while decoding stream #0:0: Invalid data found when processing input\r\n[mp3float @ 0000019af70fcd40] Header missing\r\nError while decoding stream #0:0: Invalid data found when processing input\r\n[mp3float @ 0000019af70fcd40] Header missing\r\nError while decoding stream #0:0: Invalid data found when processing input\r\n[mp3float @ 0000019af70fcd40] Header missing\r\nError while decoding stream #0:0: Invalid data found when processing input\r\n[mp3float @ 0000019af70fcd40] Header missing\r\nError while decoding stream #0:0: Invalid data found when processing input\r\n[mp3float @ 0000019af70fcd40] Header missing\r\nError while decoding stream #0:0: Invalid data found when processing input\r\n[mp3float @ 0000019af70fcd40] Header missing\r\nError while decoding stream #0:0: Invalid data found when processing input\r\n[mp3float @ 0000019af70fcd40] Header missing\r\nError while decoding stream #0:0: Invalid data found when processing input\r\n[mp3float @ 0000019af70fcd40] Header missing\r\nError while decoding stream #0:0: Invalid data found when processing input\r\n[mp3float @ 0000019af70fcd40] Header missing\r\nError while decoding stream #0:0: Invalid data found when processing input\r\n[mp3float @ 0000019af70fcd40] Header missing\r\nError while decoding stream #0:0: Invalid data found when processing input\r\n[mp3float @ 0000019af70fcd40] Header missing\r\nError while decoding stream #0:0: Invalid data found when processing input\r\n[mp3float @ 0000019af70fcd40] Header missing\r\nError while decoding stream #0:0: Invalid data found when processing input\r\n[mp3float @ 0000019af70fcd40] Header missing\r\nError while decoding stream #0:0: Invalid data found when processing input\r\n[mp3float @ 0000019af70fcd40] Header missing\r\nError while decoding stream #0:0: Invalid data found when processing input\r\n[mp3float @ 0000019af70fcd40] Header missing\r\nError while decoding stream #0:0: Invalid data found when processing input\r\n[mp3float @ 0000019af70fcd40] Header missing\r\nError while decoding stream #0:0: Invalid data found when processing input\r\n[mp3float @ 0000019af70fcd40] Header missing\r\nError while decoding stream #0:0: Invalid data found when processing input\r\n[mp3float @ 0000019af70fcd40] Header missing\r\nError while decoding stream #0:0: Invalid data found when processing input\r\n[mp3float @ 0000019af70fcd40] Header missing\r\nError while decoding stream #0:0: Invalid data found when processing input\r\n[mp3float @ 0000019af70fcd40] Header missing\r\nError while decoding stream #0:0: Invalid data found when processing input\r\n[mp3float @ 0000019af70fcd40] Header missing\r\nError while decoding stream #0:0: Invalid data found when processing input\r\n[mp3float @ 0000019af70fcd40] Header missing\r\nError while decoding stream #0:0: Invalid data found when processing input\r\n[mp3float @ 0000019af70fcd40] Header missing\r\nError while decoding stream #0:0: Invalid data found when processing input\r\n[mp3float @ 0000019af70fcd40] Header missing\r\nError while decoding stream #0:0: Invalid data found when processing input\r\n[mp3float @ 0000019af70fcd40] Header missing\r\nError while decoding stream #0:0: Invalid data found when processing input\r\n[mp3float @ 0000019af70fcd40] Header missing\r\nError while decoding stream #0:0: Invalid data found when processing input\r\n[mp3float @ 0000019af70fcd40] Header missing\r\nError while decoding stream #0:0: Invalid data found when processing input\r\n[mp3float @ 0000019af70fcd40] Header missing\r\nError while decoding stream #0:0: Invalid data found when processing input\r\n[mp3float @ 0000019af70fcd40] Header missing\r\nError while decoding stream #0:0: Invalid data found when processing input\r\n[mp3float @ 0000019af70fcd40] Header missing\r\nError while decoding stream #0:0: Invalid data found when processing input\r\n[mp3float @ 0000019af70fcd40] Header missing\r\nError while decoding stream #0:0: Invalid data found when processing input\r\n[abuffer @ 0000019af592ef40] Value inf for parameter 'time_base' out of range [0 - 2.14748e+09]\r\n    Last message repeated 1 times\r\n[abuffer @ 0000019af592ef40] Error setting option time_base to value 1/0.\r\n[graph_0_in_0_0 @ 0000019af712de00] Error applying options to the filter.\r\nError reinitializing filters!\r\nError while filtering: Result too large\r\nFinishing stream 0:0 without any data written to it.\r\n[abuffer @ 0000019af592ef40] Value inf for parameter 'time_base' out of range [0 - 2.14748e+09]\r\n    Last message repeated 1 times\r\n[abuffer @ 0000019af592ef40] Error setting option time_base to value 1/0.\r\n[graph_0_in_0_0 @ 0000019af712d540] Error applying options to the filter.\r\nError configuring filter graph\r\nConversion failed!\r\n"
     ]
    }
   ],
   "source": [
    "# Combine the audio files into one file in the order: German-file1, English-file1, German-file2, English-file2, etc.\n",
    "english_files = sorted(glob.glob(f\"{saving_directory}/English/*.mp3\"), key=lambda x: int(x.split(\"/\")[-1].split(\".\")[0].split(\"file\")[-1]))\n",
    "german_files = sorted(glob.glob(f\"{saving_directory}/German/*.mp3\"), key=lambda x: int(x.split(\"/\")[-1].split(\".\")[0].split(\"file\")[-1]))\n",
    "\n",
    "combined_audio = AudioSegment.empty()\n",
    "for (english_file, german_file) in zip(english_files, german_files):\n",
    "    combined_audio += AudioSegment.from_mp3(german_file)\n",
    "    combined_audio += AudioSegment.from_mp3(english_file)\n",
    "    \n",
    "combined_audio.export(f\"{saving_directory}/combined_audio.mp3\", format=\"mp3\")\n"
   ]
  },
  {
   "attachments": {},
   "cell_type": "markdown",
   "metadata": {},
   "source": [
    "## Play audio"
   ]
  },
  {
   "cell_type": "markdown",
   "metadata": {},
   "source": []
  }
 ],
 "metadata": {
  "kernelspec": {
   "display_name": "Python 3",
   "language": "python",
   "name": "python3"
  },
  "language_info": {
   "codemirror_mode": {
    "name": "ipython",
    "version": 3
   },
   "file_extension": ".py",
   "mimetype": "text/x-python",
   "name": "python",
   "nbconvert_exporter": "python",
   "pygments_lexer": "ipython3",
   "version": "3.10.6"
  },
  "orig_nbformat": 4,
  "vscode": {
   "interpreter": {
    "hash": "369f2c481f4da34e4445cda3fffd2e751bd1c4d706f27375911949ba6bb62e1c"
   }
  }
 },
 "nbformat": 4,
 "nbformat_minor": 2
}
